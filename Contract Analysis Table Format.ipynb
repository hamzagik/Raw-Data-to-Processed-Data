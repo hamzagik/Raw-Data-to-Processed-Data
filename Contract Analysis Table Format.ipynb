{
 "cells": [
  {
   "cell_type": "code",
   "execution_count": 1,
   "id": "9540ee2a",
   "metadata": {},
   "outputs": [],
   "source": [
    "import pandas as pd\n",
    "import numpy as np\n",
    "import re\n",
    "import warnings\n",
    "import openpyxl\n",
    "from dateutil.parser import parse\n",
    "import time\n",
    "warnings.filterwarnings(\"ignore\")\n",
    "start_time = time.time()\n",
    "import  xlsxwriter\n",
    "import datetime as dt\n",
    "import os"
   ]
  },
  {
   "cell_type": "code",
   "execution_count": 2,
   "id": "bf1babac",
   "metadata": {},
   "outputs": [],
   "source": [
    "def contract_analysis():\n",
    "    contract_analysis_df = pd.read_excel(r\"C:\\Users\\GDIT\\Downloads\\Contract Analysis.xlsx\",sheet_name = \"Contract Analysis\",\n",
    "                                         header = 8, engine = \"openpyxl\")\n",
    "    contract_analysis_df = contract_analysis_df.iloc[: , 1:]\n",
    "    contract_analysis_df.columns = ['PROJECT', 'CONTRACT AMOUNT', 'SPENT 2021', 'BILLED 2020', 'SPENT(Lifetime)', \n",
    "                                    'BILLED(Lifetime)', 'TO BE SPENT', 'TO BE BILLED', 'COMP. EST. %', 'COMP. ACT. %']\n",
    "    contract_analysis_df = contract_analysis_df.dropna(thresh = 7)\n",
    "    contract_analysis_df = contract_analysis_df[~contract_analysis_df['PROJECT'].str.contains('TOTALS:',\n",
    "                                                                            regex = True, na = False)]\n",
    "    contract_analysis_df = contract_analysis_df.apply(lambda x: x.str.strip() if x.dtype==\"object\" else x)\n",
    "    contract_analysis_df = contract_analysis_df.replace(r\"\\s+\", \" \", regex = True)\n",
    "    \n",
    "    return contract_analysis_df"
   ]
  },
  {
   "cell_type": "code",
   "execution_count": 3,
   "id": "565be008",
   "metadata": {},
   "outputs": [],
   "source": [
    "def read_backup():\n",
    "    df_CA = pd.read_excel(r\"C:\\Users\\GDIT\\Documents\\SMB Services\\Raw Data to Processed Data with table format\\Processed_Contract_Analysis.xlsx\",\n",
    "                          sheet_name = 'ca', engine = 'openpyxl')\n",
    "    return df_CA"
   ]
  },
  {
   "cell_type": "code",
   "execution_count": 5,
   "id": "8534a307",
   "metadata": {},
   "outputs": [],
   "source": [
    "def Excel_writer(contract_analysis_df, filename):\n",
    "    writer = pd.ExcelWriter(filename, engine = 'xlsxwriter', date_format = 'mm/dd/yyyy')\n",
    "    workbook = writer.book\n",
    "    \n",
    "    contract_analysis_df.to_excel(writer, sheet_name='CA', startrow=1, header=False, index=False)\n",
    "    worksheet = writer.sheets['CA']\n",
    "    (max_row, max_col) = contract_analysis_df.shape\n",
    "    column_settings = [{'header': column} for column in contract_analysis_df.columns]\n",
    "    worksheet.add_table(0, 0, max_row, max_col - 1, {'columns': column_settings,'name': \"contractanalysis\"})\n",
    "    worksheet.set_column(0, max_col - 1, 12)\n",
    "    workbook.close()"
   ]
  },
  {
   "cell_type": "code",
   "execution_count": 6,
   "id": "a25984f3",
   "metadata": {},
   "outputs": [],
   "source": [
    "def backup_writer(df_CA, filename):\n",
    "    writer = pd.ExcelWriter(filename, engine = 'xlsxwriter', date_format = 'mm/dd/yyyy')\n",
    "    workbook = writer.book\n",
    "    \n",
    "    df_CA.to_excel(writer, sheet_name = 'ca', startrow=1, header=False, index = False)\n",
    "    worksheet = writer.sheets['ca']\n",
    "    (max_row, max_col) = df_CA.shape\n",
    "    column_settings = [{'header' : column} for column in df_CA.columns]\n",
    "    worksheet.add_table(0, 0, max_row, max_col - 1, {'columns' : column_settings, 'name' : \"contractanalysis\"})\n",
    "    worksheet.set_column(0, max_col - 1, 12)\n",
    "    workbook.close()"
   ]
  },
  {
   "cell_type": "code",
   "execution_count": 7,
   "id": "56af542c",
   "metadata": {},
   "outputs": [
    {
     "name": "stdout",
     "output_type": "stream",
     "text": [
      "--- 1014.223002910614 seconds ---\n"
     ]
    }
   ],
   "source": [
    "def main():\n",
    "    backup_filename = r\"C:\\Users\\GDIT\\Documents\"+str(dt.datetime.now().date()) + '.xlsx'\n",
    "    df_CA = read_backup()\n",
    "    \n",
    "    backup_writer(df_CA,backup_filename)\n",
    "    \n",
    "    contract_analysis_df = contract_analysis()\n",
    "    \n",
    "    filename = r'C:\\Users\\GDIT\\Documents\\SMB Services\\Raw Data to Processed Data with table format\\Processed_Contract_Analysis.xlsx'\n",
    "    \n",
    "    filepath = r'C:\\Users\\GDIT\\Documents\\SMB Services\\Raw Data to Processed Data with table format\\Processed_Contract_Analysis.xlsx'\n",
    "    if os.path.exists(filepath):\n",
    "        os.remove(filepath)\n",
    "        \n",
    "    Excel_writer(contract_analysis_df, filename)\n",
    "if __name__== \"__main__\" :\n",
    "    main()\n",
    "    \n",
    "    print(\"--- %s seconds ---\" % (time.time() - start_time))"
   ]
  },
  {
   "cell_type": "code",
   "execution_count": null,
   "id": "c94f81ba",
   "metadata": {},
   "outputs": [],
   "source": []
  }
 ],
 "metadata": {
  "kernelspec": {
   "display_name": "Python 3 (ipykernel)",
   "language": "python",
   "name": "python3"
  },
  "language_info": {
   "codemirror_mode": {
    "name": "ipython",
    "version": 3
   },
   "file_extension": ".py",
   "mimetype": "text/x-python",
   "name": "python",
   "nbconvert_exporter": "python",
   "pygments_lexer": "ipython3",
   "version": "3.10.5"
  }
 },
 "nbformat": 4,
 "nbformat_minor": 5
}
